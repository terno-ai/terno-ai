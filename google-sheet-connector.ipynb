{
 "cells": [
  {
   "cell_type": "code",
   "execution_count": 1,
   "metadata": {},
   "outputs": [
    {
     "name": "stdout",
     "output_type": "stream",
     "text": [
      "1H2Fzwjw7u7wZmf3vMwrz2uKLsWHpUkRu4cWfrkLyuvA\n"
     ]
    }
   ],
   "source": [
    "import pandas as pd\n",
    "import re\n",
    "sheet_url = \"https://docs.google.com/spreadsheets/d/1H2Fzwjw7u7wZmf3vMwrz2uKLsWHpUkRu4cWfrkLyuvA/edit?gid=1310034314#gid=1310034314\"\n",
    "\n",
    "sheet_id_match = re.search(r\"/spreadsheets/d/([a-zA-Z0-9-_]+)\", sheet_url)\n",
    "sheet_id = sheet_id_match.group(1)\n",
    "print(sheet_id)\n",
    "\n",
    "sheet_name = \"CxL\"\n",
    "\n",
    "csv_url = f\"https://docs.google.com/spreadsheets/d/{sheet_id}/gviz/tq?tqx=out:csv&sheet={sheet_name}\"\n",
    "\n",
    "df = pd.read_csv(csv_url)"
   ]
  },
  {
   "cell_type": "code",
   "execution_count": null,
   "metadata": {},
   "outputs": [
    {
     "name": "stdout",
     "output_type": "stream",
     "text": [
      "      Last Name  Total Count\n",
      "0           NaN            0\n",
      "1             1            1\n",
      "2             2            1\n",
      "3             3            1\n",
      "4             4            1\n",
      "..          ...          ...\n",
      "118  Y Mudlawar            1\n",
      "119       YADAV            1\n",
      "120       Yadav            3\n",
      "121   Yammanaru            1\n",
      "122       kumar            1\n",
      "\n",
      "[123 rows x 2 columns]\n"
     ]
    }
   ],
   "source": [
    "from openai import OpenAI\n",
    "import urllib.parse\n",
    "\n",
    "OPENAI_API_KEY  = \"\"\n",
    "\n",
    "column_names = \", \".join([col for col in df.columns if not col.startswith(\"Unnamed\")])\n",
    "#table_name = \"your_table\"\n",
    "\n",
    "#print(column_names)\n",
    "\n",
    "user_prompt = \"group by last name\" #if columns name in query is col1, col2 they must be changed to A,B,C etc\n",
    "#user_prompt = \"show records where last name is yadav or YADAV\"  #for where clause we have to take care of case sensitivity\n",
    "#user_prompt = \"sort by last name\"\n",
    "#user_prompt = \"show all records\"\n",
    "\n",
    "# Create a schema description\n",
    "schema_description = f\"The table '{sheet_name}' has the following columns: {column_names}.\"\n",
    "\n",
    "#print(schema_description)\n",
    "\n",
    "# OpenAI LLM prompt\n",
    "prompt = f\"\"\"\n",
    "You are a Google Sheets formula expert, specializing in optimizing and structuring data using the QUERY() function.\n",
    "\n",
    "Given the following table schema:\n",
    "\n",
    "{schema_description}\n",
    "\n",
    "Generate an optimized Google Sheets QUERY() formula to fulfill the following request:\n",
    "\"{user_prompt}\"\n",
    "\n",
    "### Requirements:\n",
    "- Ensure the QUERY() function is correctly structured with valid Google Sheets syntax.\n",
    "- Use appropriate column references and data ranges.\n",
    "- Format the query efficiently to handle large datasets if applicable.\n",
    "- Apply sorting, filtering, grouping, or aggregations where relevant.\n",
    "- Ensure the formula dynamically adjusts for new data when feasible.\n",
    "- While writing the query consider the case sensitivity of the data.\n",
    "- While writing the query mention column names as A,B,C etc. instead of actual column names.\n",
    "\n",
    "If the QUERY() function alone cannot achieve the request, suggest alternative Google Sheets formulas or functions (e.g., FILTER(), ARRAYFORMULA(), REGEXMATCH()) that complement it.\n",
    "\"\"\"\n",
    "openai_client = OpenAI(api_key=OPENAI_API_KEY)\n",
    "# OpenAI API call\n",
    "response = openai_client.chat.completions.create(\n",
    "    model=\"gpt-3.5-turbo\",\n",
    "    messages=[\n",
    "        {\"role\": \"system\", \"content\": \"You are a Google Sheets formula expert, specializing in optimizing and structuring data using the QUERY() function\"},\n",
    "        {\"role\": \"user\", \"content\": prompt}],\n",
    "    \n",
    ")\n",
    "\n",
    "query = response.choices[0].message.content\n",
    "\n",
    "#print(query)\n",
    "\n",
    "match = re.search(r'QUERY\\([^,]+,\\s*\"([^\"]+)\"', query, re.IGNORECASE)\n",
    "q1 =  match.group(1) if match else None\n",
    "q2 = urllib.parse.quote(q1)\n",
    "\n",
    "#fetch_query = \"SELECT B, COUNT(B) GROUP BY B LABEL COUNT(B) 'Total Count'\"\n",
    "#fetch_query_encoded = urllib.parse.quote(fetch_query)\n",
    "\n",
    "#print(\"QUERY\" , fetch_query_encoded)\n",
    "\n",
    "\n",
    "\n",
    "result_url = f\"https://docs.google.com/spreadsheets/d/{sheet_id}/gviz/tq?tqx=out:csv&tq={q2}&sheet={sheet_name}\"\n",
    "\n",
    "# Fetch Data\n",
    "result_df = pd.read_csv(result_url)\n",
    "\n",
    "# Display results\n",
    "print(result_df)\n",
    "\n",
    "#print(response.choices[0].message.content)"
   ]
  }
 ],
 "metadata": {
  "kernelspec": {
   "display_name": "venv",
   "language": "python",
   "name": "python3"
  },
  "language_info": {
   "codemirror_mode": {
    "name": "ipython",
    "version": 3
   },
   "file_extension": ".py",
   "mimetype": "text/x-python",
   "name": "python",
   "nbconvert_exporter": "python",
   "pygments_lexer": "ipython3",
   "version": "3.10.16"
  }
 },
 "nbformat": 4,
 "nbformat_minor": 2
}
